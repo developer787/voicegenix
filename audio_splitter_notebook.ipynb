{
 "cells": [
  {
   "attachments": {},
   "cell_type": "markdown",
   "metadata": {},
   "source": [
    "**Cell 1: Install requirements**"
   ]
  },
  {
   "cell_type": "code",
   "execution_count": 1,
   "metadata": {},
   "outputs": [
    {
     "name": "stdout",
     "output_type": "stream",
     "text": [
      "Requirement already satisfied: librosa in /home/codespace/.local/lib/python3.10/site-packages (from -r requirements.txt (line 1)) (0.10.0.post2)\n",
      "Requirement already satisfied: webrtcvad in /home/codespace/.local/lib/python3.10/site-packages (from -r requirements.txt (line 2)) (2.0.10)\n",
      "Requirement already satisfied: pydub in /home/codespace/.local/lib/python3.10/site-packages (from -r requirements.txt (line 3)) (0.25.1)\n",
      "Requirement already satisfied: pyannote.audio in /home/codespace/.local/lib/python3.10/site-packages (from -r requirements.txt (line 4)) (1.1.2)\n",
      "Requirement already satisfied: pyannote.database in /home/codespace/.local/lib/python3.10/site-packages (from -r requirements.txt (line 5)) (5.0.1)\n",
      "Requirement already satisfied: joblib>=0.14 in /home/codespace/.local/lib/python3.10/site-packages (from librosa->-r requirements.txt (line 1)) (1.2.0)\n",
      "Requirement already satisfied: audioread>=2.1.9 in /home/codespace/.local/lib/python3.10/site-packages (from librosa->-r requirements.txt (line 1)) (3.0.0)\n",
      "Requirement already satisfied: lazy-loader>=0.1 in /home/codespace/.local/lib/python3.10/site-packages (from librosa->-r requirements.txt (line 1)) (0.2)\n",
      "Requirement already satisfied: soxr>=0.3.2 in /home/codespace/.local/lib/python3.10/site-packages (from librosa->-r requirements.txt (line 1)) (0.3.5)\n",
      "Requirement already satisfied: pooch<1.7,>=1.0 in /home/codespace/.local/lib/python3.10/site-packages (from librosa->-r requirements.txt (line 1)) (1.6.0)\n",
      "Requirement already satisfied: numpy!=1.22.0,!=1.22.1,!=1.22.2,>=1.20.3 in /home/codespace/.local/lib/python3.10/site-packages (from librosa->-r requirements.txt (line 1)) (1.24.2)\n",
      "Requirement already satisfied: decorator>=4.3.0 in /home/codespace/.local/lib/python3.10/site-packages (from librosa->-r requirements.txt (line 1)) (5.1.1)\n",
      "Requirement already satisfied: typing-extensions>=4.1.1 in /home/codespace/.local/lib/python3.10/site-packages (from librosa->-r requirements.txt (line 1)) (4.5.0)\n",
      "Requirement already satisfied: msgpack>=1.0 in /home/codespace/.local/lib/python3.10/site-packages (from librosa->-r requirements.txt (line 1)) (1.0.5)\n",
      "Requirement already satisfied: soundfile>=0.12.1 in /home/codespace/.local/lib/python3.10/site-packages (from librosa->-r requirements.txt (line 1)) (0.12.1)\n",
      "Requirement already satisfied: scipy>=1.2.0 in /home/codespace/.local/lib/python3.10/site-packages (from librosa->-r requirements.txt (line 1)) (1.10.1)\n",
      "Requirement already satisfied: numba>=0.51.0 in /home/codespace/.local/lib/python3.10/site-packages (from librosa->-r requirements.txt (line 1)) (0.56.4)\n",
      "Requirement already satisfied: scikit-learn>=0.20.0 in /home/codespace/.local/lib/python3.10/site-packages (from librosa->-r requirements.txt (line 1)) (1.2.2)\n",
      "Requirement already satisfied: pescador>=2.1.0 in /home/codespace/.local/lib/python3.10/site-packages (from pyannote.audio->-r requirements.txt (line 4)) (2.1.0)\n",
      "Requirement already satisfied: pyannote.pipeline<2.0.0,>=1.5.2 in /home/codespace/.local/lib/python3.10/site-packages (from pyannote.audio->-r requirements.txt (line 4)) (1.5.2)\n",
      "Requirement already satisfied: sortedcollections>=1.0.1 in /home/codespace/.local/lib/python3.10/site-packages (from pyannote.audio->-r requirements.txt (line 4)) (2.1.0)\n",
      "Requirement already satisfied: tensorboard>=2.0.0 in /home/codespace/.local/lib/python3.10/site-packages (from pyannote.audio->-r requirements.txt (line 4)) (2.12.2)\n",
      "Requirement already satisfied: pandas>=0.18.0 in /home/codespace/.local/lib/python3.10/site-packages (from pyannote.audio->-r requirements.txt (line 4)) (2.0.1)\n",
      "Requirement already satisfied: pyYAML>=3.12 in /home/codespace/.local/lib/python3.10/site-packages (from pyannote.audio->-r requirements.txt (line 4)) (6.0)\n",
      "Requirement already satisfied: cachetools>=2.0.0 in /home/codespace/.local/lib/python3.10/site-packages (from pyannote.audio->-r requirements.txt (line 4)) (5.3.0)\n",
      "Requirement already satisfied: pyannote.core>=4.1 in /home/codespace/.local/lib/python3.10/site-packages (from pyannote.audio->-r requirements.txt (line 4)) (5.0.0)\n",
      "Requirement already satisfied: sortedcontainers>=2.0.4 in /home/codespace/.local/lib/python3.10/site-packages (from pyannote.audio->-r requirements.txt (line 4)) (2.4.0)\n",
      "Requirement already satisfied: Pillow>=6.2.1 in /home/codespace/.local/lib/python3.10/site-packages (from pyannote.audio->-r requirements.txt (line 4)) (9.5.0)\n",
      "Requirement already satisfied: pyannote.metrics>=2.3 in /home/codespace/.local/lib/python3.10/site-packages (from pyannote.audio->-r requirements.txt (line 4)) (3.2.1)\n",
      "Requirement already satisfied: tqdm>=4.29.1 in /home/codespace/.local/lib/python3.10/site-packages (from pyannote.audio->-r requirements.txt (line 4)) (4.65.0)\n",
      "Requirement already satisfied: typer[all]>=0.2.1 in /home/codespace/.local/lib/python3.10/site-packages (from pyannote.database->-r requirements.txt (line 5)) (0.7.0)\n",
      "Requirement already satisfied: setuptools in /home/codespace/.local/lib/python3.10/site-packages (from numba>=0.51.0->librosa->-r requirements.txt (line 1)) (67.7.2)\n",
      "Collecting numpy!=1.22.0,!=1.22.1,!=1.22.2,>=1.20.3\n",
      "  Downloading numpy-1.23.5-cp310-cp310-manylinux_2_17_x86_64.manylinux2014_x86_64.whl (17.1 MB)\n",
      "\u001b[2K     \u001b[90m━━━━━━━━━━━━━━━━━━━━━━━━━━━━━━━━━━━━━━━━\u001b[0m \u001b[32m17.1/17.1 MB\u001b[0m \u001b[31m50.2 MB/s\u001b[0m eta \u001b[36m0:00:00\u001b[0m00:01\u001b[0m00:01\u001b[0m\n",
      "\u001b[?25hRequirement already satisfied: llvmlite<0.40,>=0.39.0dev0 in /home/codespace/.local/lib/python3.10/site-packages (from numba>=0.51.0->librosa->-r requirements.txt (line 1)) (0.39.1)\n",
      "Requirement already satisfied: python-dateutil>=2.8.2 in /home/codespace/.local/lib/python3.10/site-packages (from pandas>=0.18.0->pyannote.audio->-r requirements.txt (line 4)) (2.8.2)\n",
      "Requirement already satisfied: tzdata>=2022.1 in /home/codespace/.local/lib/python3.10/site-packages (from pandas>=0.18.0->pyannote.audio->-r requirements.txt (line 4)) (2023.3)\n",
      "Requirement already satisfied: pytz>=2020.1 in /home/codespace/.local/lib/python3.10/site-packages (from pandas>=0.18.0->pyannote.audio->-r requirements.txt (line 4)) (2023.3)\n",
      "Requirement already satisfied: pyzmq>=15.0 in /home/codespace/.local/lib/python3.10/site-packages (from pescador>=2.1.0->pyannote.audio->-r requirements.txt (line 4)) (25.0.2)\n",
      "Requirement already satisfied: six>=1.8 in /home/codespace/.local/lib/python3.10/site-packages (from pescador>=2.1.0->pyannote.audio->-r requirements.txt (line 4)) (1.16.0)\n",
      "Requirement already satisfied: appdirs>=1.3.0 in /home/codespace/.local/lib/python3.10/site-packages (from pooch<1.7,>=1.0->librosa->-r requirements.txt (line 1)) (1.4.4)\n",
      "Requirement already satisfied: requests>=2.19.0 in /home/codespace/.local/lib/python3.10/site-packages (from pooch<1.7,>=1.0->librosa->-r requirements.txt (line 1)) (2.29.0)\n",
      "Requirement already satisfied: packaging>=20.0 in /home/codespace/.local/lib/python3.10/site-packages (from pooch<1.7,>=1.0->librosa->-r requirements.txt (line 1)) (23.1)\n",
      "Requirement already satisfied: matplotlib>=2.0.0 in /home/codespace/.local/lib/python3.10/site-packages (from pyannote.metrics>=2.3->pyannote.audio->-r requirements.txt (line 4)) (3.7.1)\n",
      "Requirement already satisfied: sympy>=1.1 in /home/codespace/.local/lib/python3.10/site-packages (from pyannote.metrics>=2.3->pyannote.audio->-r requirements.txt (line 4)) (1.11.1)\n",
      "Requirement already satisfied: docopt>=0.6.2 in /home/codespace/.local/lib/python3.10/site-packages (from pyannote.metrics>=2.3->pyannote.audio->-r requirements.txt (line 4)) (0.6.2)\n",
      "Requirement already satisfied: tabulate>=0.7.7 in /home/codespace/.local/lib/python3.10/site-packages (from pyannote.metrics>=2.3->pyannote.audio->-r requirements.txt (line 4)) (0.9.0)\n",
      "Requirement already satisfied: optuna>=1.4 in /home/codespace/.local/lib/python3.10/site-packages (from pyannote.pipeline<2.0.0,>=1.5.2->pyannote.audio->-r requirements.txt (line 4)) (3.1.1)\n",
      "Requirement already satisfied: filelock>=3.0.10 in /home/codespace/.local/lib/python3.10/site-packages (from pyannote.pipeline<2.0.0,>=1.5.2->pyannote.audio->-r requirements.txt (line 4)) (3.12.0)\n",
      "Requirement already satisfied: threadpoolctl>=2.0.0 in /home/codespace/.local/lib/python3.10/site-packages (from scikit-learn>=0.20.0->librosa->-r requirements.txt (line 1)) (3.1.0)\n",
      "Requirement already satisfied: cffi>=1.0 in /home/codespace/.local/lib/python3.10/site-packages (from soundfile>=0.12.1->librosa->-r requirements.txt (line 1)) (1.15.1)\n",
      "Requirement already satisfied: google-auth-oauthlib<1.1,>=0.5 in /home/codespace/.local/lib/python3.10/site-packages (from tensorboard>=2.0.0->pyannote.audio->-r requirements.txt (line 4)) (1.0.0)\n",
      "Requirement already satisfied: tensorboard-plugin-wit>=1.6.0 in /home/codespace/.local/lib/python3.10/site-packages (from tensorboard>=2.0.0->pyannote.audio->-r requirements.txt (line 4)) (1.8.1)\n",
      "Requirement already satisfied: protobuf>=3.19.6 in /home/codespace/.local/lib/python3.10/site-packages (from tensorboard>=2.0.0->pyannote.audio->-r requirements.txt (line 4)) (4.22.3)\n",
      "Requirement already satisfied: markdown>=2.6.8 in /home/codespace/.local/lib/python3.10/site-packages (from tensorboard>=2.0.0->pyannote.audio->-r requirements.txt (line 4)) (3.4.3)\n",
      "Requirement already satisfied: werkzeug>=1.0.1 in /home/codespace/.local/lib/python3.10/site-packages (from tensorboard>=2.0.0->pyannote.audio->-r requirements.txt (line 4)) (2.3.0)\n",
      "Requirement already satisfied: wheel>=0.26 in /home/codespace/.local/lib/python3.10/site-packages (from tensorboard>=2.0.0->pyannote.audio->-r requirements.txt (line 4)) (0.40.0)\n",
      "Requirement already satisfied: grpcio>=1.48.2 in /home/codespace/.local/lib/python3.10/site-packages (from tensorboard>=2.0.0->pyannote.audio->-r requirements.txt (line 4)) (1.54.0)\n",
      "Requirement already satisfied: tensorboard-data-server<0.8.0,>=0.7.0 in /home/codespace/.local/lib/python3.10/site-packages (from tensorboard>=2.0.0->pyannote.audio->-r requirements.txt (line 4)) (0.7.0)\n",
      "Requirement already satisfied: absl-py>=0.4 in /home/codespace/.local/lib/python3.10/site-packages (from tensorboard>=2.0.0->pyannote.audio->-r requirements.txt (line 4)) (1.4.0)\n",
      "Requirement already satisfied: google-auth<3,>=1.6.3 in /home/codespace/.local/lib/python3.10/site-packages (from tensorboard>=2.0.0->pyannote.audio->-r requirements.txt (line 4)) (2.17.3)\n",
      "Requirement already satisfied: click<9.0.0,>=7.1.1 in /home/codespace/.local/lib/python3.10/site-packages (from typer[all]>=0.2.1->pyannote.database->-r requirements.txt (line 5)) (8.1.3)\n",
      "Requirement already satisfied: shellingham<2.0.0,>=1.3.0 in /home/codespace/.local/lib/python3.10/site-packages (from typer[all]>=0.2.1->pyannote.database->-r requirements.txt (line 5)) (1.5.0.post1)\n",
      "Requirement already satisfied: colorama<0.5.0,>=0.4.3 in /home/codespace/.local/lib/python3.10/site-packages (from typer[all]>=0.2.1->pyannote.database->-r requirements.txt (line 5)) (0.4.6)\n",
      "Requirement already satisfied: rich<13.0.0,>=10.11.0 in /home/codespace/.local/lib/python3.10/site-packages (from typer[all]>=0.2.1->pyannote.database->-r requirements.txt (line 5)) (12.6.0)\n",
      "Requirement already satisfied: pycparser in /home/codespace/.local/lib/python3.10/site-packages (from cffi>=1.0->soundfile>=0.12.1->librosa->-r requirements.txt (line 1)) (2.21)\n",
      "Requirement already satisfied: pyasn1-modules>=0.2.1 in /home/codespace/.local/lib/python3.10/site-packages (from google-auth<3,>=1.6.3->tensorboard>=2.0.0->pyannote.audio->-r requirements.txt (line 4)) (0.3.0)\n",
      "Requirement already satisfied: rsa<5,>=3.1.4 in /home/codespace/.local/lib/python3.10/site-packages (from google-auth<3,>=1.6.3->tensorboard>=2.0.0->pyannote.audio->-r requirements.txt (line 4)) (4.9)\n",
      "Requirement already satisfied: requests-oauthlib>=0.7.0 in /home/codespace/.local/lib/python3.10/site-packages (from google-auth-oauthlib<1.1,>=0.5->tensorboard>=2.0.0->pyannote.audio->-r requirements.txt (line 4)) (1.3.1)\n",
      "Requirement already satisfied: contourpy>=1.0.1 in /home/codespace/.local/lib/python3.10/site-packages (from matplotlib>=2.0.0->pyannote.metrics>=2.3->pyannote.audio->-r requirements.txt (line 4)) (1.0.7)\n",
      "Requirement already satisfied: fonttools>=4.22.0 in /home/codespace/.local/lib/python3.10/site-packages (from matplotlib>=2.0.0->pyannote.metrics>=2.3->pyannote.audio->-r requirements.txt (line 4)) (4.39.3)\n",
      "Requirement already satisfied: kiwisolver>=1.0.1 in /home/codespace/.local/lib/python3.10/site-packages (from matplotlib>=2.0.0->pyannote.metrics>=2.3->pyannote.audio->-r requirements.txt (line 4)) (1.4.4)\n",
      "Requirement already satisfied: pyparsing>=2.3.1 in /home/codespace/.local/lib/python3.10/site-packages (from matplotlib>=2.0.0->pyannote.metrics>=2.3->pyannote.audio->-r requirements.txt (line 4)) (3.0.9)\n",
      "Requirement already satisfied: cycler>=0.10 in /home/codespace/.local/lib/python3.10/site-packages (from matplotlib>=2.0.0->pyannote.metrics>=2.3->pyannote.audio->-r requirements.txt (line 4)) (0.11.0)\n",
      "Requirement already satisfied: cmaes>=0.9.1 in /home/codespace/.local/lib/python3.10/site-packages (from optuna>=1.4->pyannote.pipeline<2.0.0,>=1.5.2->pyannote.audio->-r requirements.txt (line 4)) (0.9.1)\n",
      "Requirement already satisfied: sqlalchemy>=1.3.0 in /home/codespace/.local/lib/python3.10/site-packages (from optuna>=1.4->pyannote.pipeline<2.0.0,>=1.5.2->pyannote.audio->-r requirements.txt (line 4)) (2.0.11)\n",
      "Requirement already satisfied: colorlog in /home/codespace/.local/lib/python3.10/site-packages (from optuna>=1.4->pyannote.pipeline<2.0.0,>=1.5.2->pyannote.audio->-r requirements.txt (line 4)) (6.7.0)\n",
      "Requirement already satisfied: alembic>=1.5.0 in /home/codespace/.local/lib/python3.10/site-packages (from optuna>=1.4->pyannote.pipeline<2.0.0,>=1.5.2->pyannote.audio->-r requirements.txt (line 4)) (1.10.4)\n",
      "Requirement already satisfied: idna<4,>=2.5 in /home/codespace/.local/lib/python3.10/site-packages (from requests>=2.19.0->pooch<1.7,>=1.0->librosa->-r requirements.txt (line 1)) (3.4)\n",
      "Requirement already satisfied: charset-normalizer<4,>=2 in /home/codespace/.local/lib/python3.10/site-packages (from requests>=2.19.0->pooch<1.7,>=1.0->librosa->-r requirements.txt (line 1)) (3.1.0)\n",
      "Requirement already satisfied: certifi>=2017.4.17 in /home/codespace/.local/lib/python3.10/site-packages (from requests>=2.19.0->pooch<1.7,>=1.0->librosa->-r requirements.txt (line 1)) (2022.12.7)\n",
      "Requirement already satisfied: urllib3<1.27,>=1.21.1 in /home/codespace/.local/lib/python3.10/site-packages (from requests>=2.19.0->pooch<1.7,>=1.0->librosa->-r requirements.txt (line 1)) (1.26.15)\n",
      "Requirement already satisfied: pygments<3.0.0,>=2.6.0 in /home/codespace/.local/lib/python3.10/site-packages (from rich<13.0.0,>=10.11.0->typer[all]>=0.2.1->pyannote.database->-r requirements.txt (line 5)) (2.15.1)\n",
      "Requirement already satisfied: commonmark<0.10.0,>=0.9.0 in /home/codespace/.local/lib/python3.10/site-packages (from rich<13.0.0,>=10.11.0->typer[all]>=0.2.1->pyannote.database->-r requirements.txt (line 5)) (0.9.1)\n",
      "Requirement already satisfied: mpmath>=0.19 in /home/codespace/.local/lib/python3.10/site-packages (from sympy>=1.1->pyannote.metrics>=2.3->pyannote.audio->-r requirements.txt (line 4)) (1.3.0)\n",
      "Requirement already satisfied: MarkupSafe>=2.1.1 in /home/codespace/.local/lib/python3.10/site-packages (from werkzeug>=1.0.1->tensorboard>=2.0.0->pyannote.audio->-r requirements.txt (line 4)) (2.1.2)\n",
      "Requirement already satisfied: Mako in /home/codespace/.local/lib/python3.10/site-packages (from alembic>=1.5.0->optuna>=1.4->pyannote.pipeline<2.0.0,>=1.5.2->pyannote.audio->-r requirements.txt (line 4)) (1.2.4)\n",
      "Requirement already satisfied: pyasn1<0.6.0,>=0.4.6 in /home/codespace/.local/lib/python3.10/site-packages (from pyasn1-modules>=0.2.1->google-auth<3,>=1.6.3->tensorboard>=2.0.0->pyannote.audio->-r requirements.txt (line 4)) (0.5.0)\n",
      "Requirement already satisfied: oauthlib>=3.0.0 in /home/codespace/.local/lib/python3.10/site-packages (from requests-oauthlib>=0.7.0->google-auth-oauthlib<1.1,>=0.5->tensorboard>=2.0.0->pyannote.audio->-r requirements.txt (line 4)) (3.2.2)\n",
      "Requirement already satisfied: greenlet!=0.4.17 in /home/codespace/.local/lib/python3.10/site-packages (from sqlalchemy>=1.3.0->optuna>=1.4->pyannote.pipeline<2.0.0,>=1.5.2->pyannote.audio->-r requirements.txt (line 4)) (2.0.2)\n",
      "Installing collected packages: numpy\n",
      "  Attempting uninstall: numpy\n",
      "    Found existing installation: numpy 1.24.2\n",
      "    Uninstalling numpy-1.24.2:\n",
      "      Successfully uninstalled numpy-1.24.2\n",
      "Successfully installed numpy-1.23.5\n",
      "\n",
      "\u001b[1m[\u001b[0m\u001b[34;49mnotice\u001b[0m\u001b[1;39;49m]\u001b[0m\u001b[39;49m A new release of pip is available: \u001b[0m\u001b[31;49m23.0.1\u001b[0m\u001b[39;49m -> \u001b[0m\u001b[32;49m23.1.2\u001b[0m\n",
      "\u001b[1m[\u001b[0m\u001b[34;49mnotice\u001b[0m\u001b[1;39;49m]\u001b[0m\u001b[39;49m To update, run: \u001b[0m\u001b[32;49mpython -m pip install --upgrade pip\u001b[0m\n"
     ]
    }
   ],
   "source": [
    "!pip install -r requirements.txt"
   ]
  },
  {
   "attachments": {},
   "cell_type": "markdown",
   "metadata": {},
   "source": [
    "**Cell 2: Import required libraries and functions**"
   ]
  },
  {
   "cell_type": "code",
   "execution_count": 2,
   "metadata": {},
   "outputs": [
    {
     "ename": "ModuleNotFoundError",
     "evalue": "No module named 'google.colab'",
     "output_type": "error",
     "traceback": [
      "\u001b[0;31m---------------------------------------------------------------------------\u001b[0m",
      "\u001b[0;31mModuleNotFoundError\u001b[0m                       Traceback (most recent call last)",
      "Cell \u001b[0;32mIn[2], line 1\u001b[0m\n\u001b[0;32m----> 1\u001b[0m \u001b[39mfrom\u001b[39;00m \u001b[39mgoogle\u001b[39;00m\u001b[39m.\u001b[39;00m\u001b[39mcolab\u001b[39;00m \u001b[39mimport\u001b[39;00m files\n\u001b[1;32m      2\u001b[0m \u001b[39mimport\u001b[39;00m \u001b[39mos\u001b[39;00m\n\u001b[1;32m      3\u001b[0m \u001b[39mfrom\u001b[39;00m \u001b[39maudio_splitter\u001b[39;00m \u001b[39mimport\u001b[39;00m split_audio_by_speakers\n",
      "\u001b[0;31mModuleNotFoundError\u001b[0m: No module named 'google.colab'"
     ]
    }
   ],
   "source": [
    "from google.colab import files\n",
    "import os\n",
    "from audio_splitter import split_audio_by_speakers"
   ]
  }
 ],
 "metadata": {
  "kernelspec": {
   "display_name": "Python 3",
   "language": "python",
   "name": "python3"
  },
  "language_info": {
   "codemirror_mode": {
    "name": "ipython",
    "version": 3
   },
   "file_extension": ".py",
   "mimetype": "text/x-python",
   "name": "python",
   "nbconvert_exporter": "python",
   "pygments_lexer": "ipython3",
   "version": "3.10.4"
  },
  "orig_nbformat": 4
 },
 "nbformat": 4,
 "nbformat_minor": 2
}
